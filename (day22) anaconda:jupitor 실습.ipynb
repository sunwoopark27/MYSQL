{
 "cells": [
  {
   "cell_type": "code",
   "execution_count": null,
   "id": "b2baee50-6cad-4cf1-b766-846baf46da1d",
   "metadata": {},
   "outputs": [],
   "source": [
    "!pip install pymysql"
   ]
  },
  {
   "cell_type": "code",
   "execution_count": null,
   "id": "cc4e5d24-fee0-4246-88f9-2f4286336a6b",
   "metadata": {},
   "outputs": [],
   "source": [
    "conda install -c anaconda pymysql  # mac 에서 잘 안돼서 다시 설치"
   ]
  },
  {
   "cell_type": "code",
   "execution_count": null,
   "id": "8a2c7bc7-5665-4866-9a5e-9d6632877311",
   "metadata": {},
   "outputs": [],
   "source": [
    "import pymysql\n",
    "conn = pymysql.connect(\n",
    "    host = 'localhost',\n",
    "    port = 3306,\n",
    "    user = 'root',\n",
    "    password = '',\n",
    "    db = 'test',\n",
    "    charset = 'utf8mb4'\n",
    ")"
   ]
  },
  {
   "cell_type": "code",
   "execution_count": null,
   "id": "83c2b909-042f-4283-9c77-4030151fb213",
   "metadata": {},
   "outputs": [],
   "source": [
    "cur = conn.cursor()"
   ]
  },
  {
   "cell_type": "code",
   "execution_count": null,
   "id": "ca7ec1d5-b488-4348-a1f8-dcd1548a3937",
   "metadata": {},
   "outputs": [],
   "source": [
    "cur.execute(\"SELECT * FROM sales\") # 숫자 2가 나오면 잘 된것을 알 수 있음(다른 숫자 나올수도)"
   ]
  },
  {
   "cell_type": "code",
   "execution_count": null,
   "id": "e0b1564e-f57c-4e5c-ae8c-9be844f28d06",
   "metadata": {},
   "outputs": [],
   "source": [
    "cur.execute(\"\"\"CREATE TABLE customer(\n",
    "                ID INT PRIMARY KEY AUTO_INCREMENT,\n",
    "                name VARCHAR(50) NOT NULL,\n",
    "                email VARCHAR(200))\"\"\")"
   ]
  },
  {
   "cell_type": "code",
   "execution_count": null,
   "id": "209fac3e-7fda-4ff9-b816-f08a1338b22d",
   "metadata": {},
   "outputs": [],
   "source": [
    "cur.execute(\"INSERT INTO customer (name) VALUES ('임선미')\")"
   ]
  },
  {
   "cell_type": "code",
   "execution_count": null,
   "id": "816f2103-0efa-48eb-ae44-42d286043815",
   "metadata": {},
   "outputs": [],
   "source": [
    "conn.commit() # commit 을 해줘야 확실히 값이 들어감"
   ]
  },
  {
   "cell_type": "code",
   "execution_count": null,
   "id": "f504d303-8a50-40b8-bd7c-81c9155e0473",
   "metadata": {},
   "outputs": [],
   "source": [
    "while (True):\n",
    "    name = input(\"사용자 이름은?\")\n",
    "    if name == \"\":\n",
    "        print(\"사용자 이름은 필수 입력값입니다.\")\n",
    "        continue\n",
    "    email = input(\"사용자의 이메일 주소를 입력해주세요\")\n",
    "    text = \"INSERT INTO customer (name,email) VALUES('\"+ name + \"','\" + email +\"')\"\n",
    "    cur.execute(text)\n",
    "    break; # 하나만 입력받게"
   ]
  },
  {
   "cell_type": "code",
   "execution_count": null,
   "id": "fbc1ee81-637c-4272-8754-65ab03dfc0d0",
   "metadata": {},
   "outputs": [],
   "source": [
    "cur.execute(\"SELECT * FROM customer\")\n",
    "\n",
    "print(\"ID       이름         이메일\")\n",
    "print(\"-------------------------\")\n",
    "\n",
    "while (True) :\n",
    "    row = cur.fetchone() # 데이터를 한행씩\n",
    "    if row == None:\n",
    "        break\n",
    "    cus_id = row[0]\n",
    "    name = row[1]\n",
    "    email = row[2]\n",
    "    print(\"%2s %10s %10s\"%(cus_id, name, email))"
   ]
  },
  {
   "cell_type": "code",
   "execution_count": null,
   "id": "7e674c5f-b28c-4a18-b080-dac3e0652fdc",
   "metadata": {},
   "outputs": [],
   "source": [
    "!pip install pandas"
   ]
  },
  {
   "cell_type": "code",
   "execution_count": null,
   "id": "a248c04f-fc73-4214-84c9-b7cb9c922936",
   "metadata": {},
   "outputs": [],
   "source": [
    "import pandas as pd\n",
    "cur.execute(\"SELECT * FROM customer\")\n",
    "result = cur.fetchall()                        # 데이터 가져오기\n",
    "columns = [col[0] for col in cur.description]  # column 명을 가져오기 위해 / sql의 describe customer; 과 같음 \n",
    "df = pd.DataFrame(result, columns = columns)   # 파이썬 데이터 프레임 이용해 가져옴\n",
    "df"
   ]
  },
  {
   "cell_type": "code",
   "execution_count": null,
   "id": "541df1f4-8115-40ab-bb64-df78394016f3",
   "metadata": {},
   "outputs": [],
   "source": [
    "# world db 에 연결\n",
    "conn = pymysql.connect(\n",
    "    host = 'localhost',\n",
    "    port = 3306,\n",
    "    user = 'root',\n",
    "    password = '',\n",
    "    db = 'world',\n",
    "    charset = 'utf8mb4'\n",
    ")"
   ]
  },
  {
   "cell_type": "code",
   "execution_count": null,
   "id": "37f7c2a5-82ae-4434-a08d-4ffebdfbf5a1",
   "metadata": {},
   "outputs": [],
   "source": [
    "cur = conn.cursor()"
   ]
  },
  {
   "cell_type": "code",
   "execution_count": null,
   "id": "49fca2a3-4c6a-45ed-ac8d-05d86ca8c7f4",
   "metadata": {},
   "outputs": [],
   "source": [
    "# country 테이블에서\n",
    "# GovernmentForm 필드 기준으로 내림차순으로 정렬한 후\n",
    "# SurfaceArea 필드 기준으로 오름차순 정렬하여 조회\n",
    "import pandas as pd\n",
    "cur.execute(\"SELECT * FROM country\")      # world db의 country 테이블을 읽어옴\n",
    "result = cur.fetchall()\n",
    "columns = [col[0] for col in cur.description]\n",
    "df = pd.DataFrame(result, columns = columns)\n",
    "df.head()"
   ]
  },
  {
   "cell_type": "code",
   "execution_count": null,
   "id": "1f7768bc-3087-4c4b-b403-1fa33f047b03",
   "metadata": {},
   "outputs": [],
   "source": [
    "# GovernmentForm 필드 기준으로 내림차순으로 정렬한 후\n",
    "# SurfaceArea 필드 기준으로 오름차순 정렬하여 조회\n",
    "# python 이용해봄\n",
    "df_sorted = df.sort_values(by =['GovernmentForm', 'SurfaceArea'], ascending = [False, True])\n",
    "df_sorted.head()"
   ]
  },
  {
   "cell_type": "code",
   "execution_count": null,
   "id": "27b139ab-5495-4415-a8b2-c44f9efc92d5",
   "metadata": {},
   "outputs": [],
   "source": [
    "# country 테이블에서\n",
    "# Continent 필드가 'Africa'인 데이터 중에\n",
    "# Population 기준으로 오름차순 정렬한 후\n",
    "# Name, Population 데이터\n",
    "\n",
    "cur.execute(\"\"\" SELECT \n",
    "                    Name, Population\n",
    "                FROM country\n",
    "                WHERE Continent = 'Africa'\n",
    "                ORDER BY Population\n",
    "                \"\"\")\n",
    "result = cur.fetchall()       # 데이터 가져옴\n",
    "columns = [col[0] for col in cur.description]  # 열 속성들 가져옴\n",
    "df = pd.DataFrame(result,columns=columns)\n",
    "df.head()"
   ]
  },
  {
   "cell_type": "code",
   "execution_count": null,
   "id": "5b9f11af-80b3-4627-a3c6-554b2e269599",
   "metadata": {},
   "outputs": [],
   "source": [
    "# country 테이블에서 Continent 필드로 그룹화하고\n",
    "# GNP 평균값을 소수점 2자로 반올림하여 조회하고 이름을 avg_GNP로 출력\n",
    "\n",
    "cur.execute(\"\"\" SELECT\n",
    "                    Continent,\n",
    "                    ROUND(AVG(GNP),2) as avg_GNP\n",
    "                FROM country\n",
    "                GROUP BY Continent\"\"\")\n",
    "result =  cur.fetchall()\n",
    "columns = [col[0] for col in cur.description]\n",
    "df = pd.DataFrame(result, columns = columns)\n",
    "df"
   ]
  },
  {
   "cell_type": "code",
   "execution_count": null,
   "id": "f872db0f-9017-4b34-91db-da95163f15a5",
   "metadata": {},
   "outputs": [],
   "source": [
    "# country 테이블에서 Region 필드로 그룹화하고\n",
    "# 나라의 개수가 15이상 20이하인 데이터를 count_reg로 하여 내림차순으로 조회\n",
    "\n",
    "cur.execute(\"\"\"SELECT\n",
    "                    REGION,\n",
    "                    COUNT(Region) as count_reg\n",
    "                FROM country\n",
    "                GROUP BY Region\n",
    "                HAVING count_reg >= 15 and count_reg <= 20\"\"\")\n",
    "result =  cur.fetchall()\n",
    "columns = [col[0] for col in cur.description]\n",
    "df =  pd.DataFrame(result, columns = columns)\n",
    "df"
   ]
  },
  {
   "cell_type": "code",
   "execution_count": null,
   "id": "b44b5205-74b9-4e16-85cd-3c4c10e76ef0",
   "metadata": {},
   "outputs": [],
   "source": [
    "# country 테이블의 각 국가마다\n",
    "# 해당 국가에 소속된 도시들의 평균 인구를 city 테이블을 이용하여 조회\n",
    "\n",
    "cur.execute(\"\"\"SELECT\n",
    "                  CountryCode,\n",
    "    \t\t\t  AVG(Population)\n",
    "              FROM city\n",
    "              GROUP BY CountryCode\"\"\")\n",
    "result =  cur.fetchall()\n",
    "columns = [col[0] for col in cur.description]\n",
    "df =  pd.DataFrame(result, columns = columns)\n",
    "df"
   ]
  },
  {
   "cell_type": "code",
   "execution_count": null,
   "id": "f9a2a2d4-6d87-407f-a93b-c3fd78f4ce4f",
   "metadata": {},
   "outputs": [],
   "source": [
    "# country 테이블의 Frace의 국가코드를 이용하여\n",
    "# city 테이블의 'France'의 모든 도시의 이름 출력\n",
    "cur.execute(\"\"\"SELECT \n",
    "    \t\t\t\tc.Name\n",
    "               FROM city c\n",
    "               JOIN country t\n",
    "                   ON c.CountryCode = t.Code\n",
    "               WHERE t.Name = 'France'\"\"\")\n",
    "result =  cur.fetchall()\n",
    "columns = [col[0] for col in cur.description]\n",
    "df =  pd.DataFrame(result, columns = columns)\n",
    "df.head()"
   ]
  },
  {
   "cell_type": "code",
   "execution_count": null,
   "id": "733ddd80-2aaa-4793-b239-60d8e942b170",
   "metadata": {},
   "outputs": [],
   "source": [
    "# world DB의 city와 country 테이블과 이용하여\n",
    "# 도시 인구 비율 계산 함수 (도시인구/해당 국가의 인구)\n",
    "\n",
    "def city_pop_ratio(city_name):\n",
    "    cur.execute(f\"\"\"SELECT c.Population, t.Population\n",
    "                   FROM city c JOIN country t ON c.CountryCode = t.Code\n",
    "                   WHERE c.Name='{city_name}'\"\"\")\n",
    "    city_pop, country_pop = cur.fetchone()\n",
    "    return round(city_pop/country_pop*100,2)\n",
    "\n",
    "city_pop_ratio(\"Seoul\")"
   ]
  },
  {
   "cell_type": "code",
   "execution_count": null,
   "id": "530d1c64-c401-42c6-999a-f41c5722d75a",
   "metadata": {},
   "outputs": [],
   "source": []
  }
 ],
 "metadata": {
  "kernelspec": {
   "display_name": "Python 3 (ipykernel)",
   "language": "python",
   "name": "python3"
  },
  "language_info": {
   "codemirror_mode": {
    "name": "ipython",
    "version": 3
   },
   "file_extension": ".py",
   "mimetype": "text/x-python",
   "name": "python",
   "nbconvert_exporter": "python",
   "pygments_lexer": "ipython3",
   "version": "3.12.8"
  }
 },
 "nbformat": 4,
 "nbformat_minor": 5
}
